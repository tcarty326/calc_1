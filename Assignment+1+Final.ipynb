{
 "cells": [
  {
   "cell_type": "code",
   "execution_count": 1,
   "metadata": {
    "collapsed": true
   },
   "outputs": [],
   "source": [
    "%matplotlib inline\n",
    "import matplotlib.pyplot as plt"
   ]
  },
  {
   "cell_type": "markdown",
   "metadata": {},
   "source": [
    "Tristan Carty - Assignment 1"
   ]
  },
  {
   "cell_type": "markdown",
   "metadata": {},
   "source": [
    "Problem 1"
   ]
  },
  {
   "cell_type": "code",
   "execution_count": 4,
   "metadata": {
    "collapsed": true
   },
   "outputs": [],
   "source": [
    "a = [3]"
   ]
  },
  {
   "cell_type": "code",
   "execution_count": 11,
   "metadata": {
    "collapsed": true
   },
   "outputs": [],
   "source": [
    "next = a[0] * 0.5"
   ]
  },
  {
   "cell_type": "code",
   "execution_count": 6,
   "metadata": {
    "collapsed": true
   },
   "outputs": [],
   "source": [
    "a.append(next)"
   ]
  },
  {
   "cell_type": "code",
   "execution_count": 12,
   "metadata": {
    "collapsed": true
   },
   "outputs": [],
   "source": [
    "a = [3]\n",
    "\n",
    "for i in range(7):\n",
    "    next = a[i] * 0.5\n",
    "    a.append(next)"
   ]
  },
  {
   "cell_type": "code",
   "execution_count": 13,
   "metadata": {},
   "outputs": [
    {
     "data": {
      "text/plain": [
       "[3, 1.5, 0.75, 0.375, 0.1875, 0.09375, 0.046875, 0.0234375]"
      ]
     },
     "execution_count": 13,
     "metadata": {},
     "output_type": "execute_result"
    }
   ],
   "source": [
    "a"
   ]
  },
  {
   "cell_type": "code",
   "execution_count": 14,
   "metadata": {},
   "outputs": [
    {
     "data": {
      "text/plain": [
       "[3, 1.5, 0.75, 0.375, 0.1875, 0.09375, 0.046875]"
      ]
     },
     "execution_count": 14,
     "metadata": {},
     "output_type": "execute_result"
    }
   ],
   "source": [
    "a [0:7]"
   ]
  },
  {
   "cell_type": "code",
   "execution_count": 17,
   "metadata": {},
   "outputs": [
    {
     "data": {
      "text/plain": [
       "<matplotlib.text.Text at 0x202b6531160>"
      ]
     },
     "execution_count": 17,
     "metadata": {},
     "output_type": "execute_result"
    },
    {
     "data": {
      "image/png": "[encoded data removed]",
      "text/plain": [
       "<matplotlib.figure.Figure at 0x202b6164198>"
      ]
     },
     "metadata": {},
     "output_type": "display_data"
    }
   ],
   "source": [
    "plt.plot (a, 'o')\n",
    "plt.title (\"Problem #1 Sequence\")"
   ]
  },
  {
   "cell_type": "markdown",
   "metadata": {},
   "source": [
    "Problem #2"
   ]
  },
  {
   "cell_type": "code",
   "execution_count": 4,
   "metadata": {
    "collapsed": true
   },
   "outputs": [],
   "source": [
    "b = [0.5]"
   ]
  },
  {
   "cell_type": "code",
   "execution_count": 5,
   "metadata": {
    "collapsed": true
   },
   "outputs": [],
   "source": [
    "next = b[0] + 0.5**0"
   ]
  },
  {
   "cell_type": "code",
   "execution_count": 6,
   "metadata": {
    "collapsed": true
   },
   "outputs": [],
   "source": [
    "next1 = b[0] + 0.5**1"
   ]
  },
  {
   "cell_type": "code",
   "execution_count": 8,
   "metadata": {
    "collapsed": true
   },
   "outputs": [],
   "source": [
    "next2 = b[0] + 0.5**2"
   ]
  },
  {
   "cell_type": "code",
   "execution_count": 9,
   "metadata": {},
   "outputs": [
    {
     "data": {
      "text/plain": [
       "(1.5, 1.0, 0.75)"
      ]
     },
     "execution_count": 9,
     "metadata": {},
     "output_type": "execute_result"
    }
   ],
   "source": [
    "next, next1, next2"
   ]
  },
  {
   "cell_type": "code",
   "execution_count": 7,
   "metadata": {
    "collapsed": true
   },
   "outputs": [],
   "source": [
    "b = [0.5]\n",
    "\n",
    "for i in range(70):\n",
    "    next = b[i] + 0.5**i\n",
    "    b.append(next)"
   ]
  },
  {
   "cell_type": "code",
   "execution_count": 8,
   "metadata": {},
   "outputs": [
    {
     "data": {
      "text/plain": [
       "[0.5,\n",
       " 1.5,\n",
       " 2.0,\n",
       " 2.25,\n",
       " 2.375,\n",
       " 2.4375,\n",
       " 2.46875,\n",
       " 2.484375,\n",
       " 2.4921875,\n",
       " 2.49609375,\n",
       " 2.498046875,\n",
       " 2.4990234375,\n",
       " 2.49951171875,\n",
       " 2.499755859375,\n",
       " 2.4998779296875,\n",
       " 2.49993896484375,\n",
       " 2.499969482421875,\n",
       " 2.4999847412109375,\n",
       " 2.4999923706054688,\n",
       " 2.4999961853027344,\n",
       " 2.499998092651367,\n",
       " 2.4999990463256836,\n",
       " 2.499999523162842,\n",
       " 2.499999761581421,\n",
       " 2.4999998807907104,\n",
       " 2.4999999403953552,\n",
       " 2.4999999701976776,\n",
       " 2.499999985098839,\n",
       " 2.4999999925494194,\n",
       " 2.4999999962747097,\n",
       " 2.499999998137355,\n",
       " 2.4999999990686774,\n",
       " 2.4999999995343387,\n",
       " 2.4999999997671694,\n",
       " 2.4999999998835847,\n",
       " 2.4999999999417923,\n",
       " 2.499999999970896,\n",
       " 2.499999999985448,\n",
       " 2.499999999992724,\n",
       " 2.499999999996362,\n",
       " 2.499999999998181,\n",
       " 2.4999999999990905,\n",
       " 2.4999999999995453,\n",
       " 2.4999999999997726,\n",
       " 2.4999999999998863,\n",
       " 2.499999999999943,\n",
       " 2.4999999999999716,\n",
       " 2.499999999999986,\n",
       " 2.499999999999993,\n",
       " 2.4999999999999964,\n",
       " 2.4999999999999982,\n",
       " 2.499999999999999,\n",
       " 2.4999999999999996,\n",
       " 2.5,\n",
       " 2.5,\n",
       " 2.5,\n",
       " 2.5,\n",
       " 2.5,\n",
       " 2.5,\n",
       " 2.5,\n",
       " 2.5,\n",
       " 2.5,\n",
       " 2.5,\n",
       " 2.5,\n",
       " 2.5,\n",
       " 2.5,\n",
       " 2.5,\n",
       " 2.5,\n",
       " 2.5,\n",
       " 2.5,\n",
       " 2.5]"
      ]
     },
     "execution_count": 8,
     "metadata": {},
     "output_type": "execute_result"
    }
   ],
   "source": [
    "b"
   ]
  },
  {
   "cell_type": "code",
   "execution_count": 2,
   "metadata": {
    "collapsed": true
   },
   "outputs": [],
   "source": [
    "%matplotlib inline\n",
    "import matplotlib.pyplot as plt"
   ]
  },
  {
   "cell_type": "code",
   "execution_count": 9,
   "metadata": {},
   "outputs": [
    {
     "data": {
      "text/plain": [
       "<matplotlib.text.Text at 0x1e8d06af4a8>"
      ]
     },
     "execution_count": 9,
     "metadata": {},
     "output_type": "execute_result"
    },
    {
     "data": {
      "image/png": "[encoded data removed]",
      "text/plain": [
       "<matplotlib.figure.Figure at 0x1e8d058f390>"
      ]
     },
     "metadata": {},
     "output_type": "display_data"
    }
   ],
   "source": [
    "plt.plot (b, 'o')\n",
    "plt.title (\"Problem #2 Sequence\")"
   ]
  },
  {
   "cell_type": "markdown",
   "metadata": {},
   "source": [
    "Problem #3"
   ]
  },
  {
   "cell_type": "code",
   "execution_count": 2,
   "metadata": {
    "collapsed": true
   },
   "outputs": [],
   "source": [
    "x = [1.5]"
   ]
  },
  {
   "cell_type": "code",
   "execution_count": 5,
   "metadata": {},
   "outputs": [],
   "source": [
    "next = 0.5 * ((x[0]) + (2 /(x[0])))"
   ]
  },
  {
   "cell_type": "code",
   "execution_count": 8,
   "metadata": {},
   "outputs": [],
   "source": [
    "for i in range(10):\n",
    "    next = 0.5 * ((x[i]) + (2 /(x[i])))\n",
    "    x.append(next)"
   ]
  },
  {
   "cell_type": "code",
   "execution_count": 9,
   "metadata": {},
   "outputs": [
    {
     "data": {
      "text/plain": [
       "[1.5,\n",
       " 1.4166666666666665,\n",
       " 1.4142156862745097,\n",
       " 1.4142135623746899,\n",
       " 1.414213562373095,\n",
       " 1.414213562373095,\n",
       " 1.414213562373095,\n",
       " 1.414213562373095,\n",
       " 1.414213562373095,\n",
       " 1.414213562373095,\n",
       " 1.414213562373095]"
      ]
     },
     "execution_count": 9,
     "metadata": {},
     "output_type": "execute_result"
    }
   ],
   "source": [
    "x"
   ]
  },
  {
   "cell_type": "code",
   "execution_count": 10,
   "metadata": {
    "collapsed": true
   },
   "outputs": [],
   "source": [
    "y = [10]"
   ]
  },
  {
   "cell_type": "code",
   "execution_count": 11,
   "metadata": {
    "collapsed": true
   },
   "outputs": [],
   "source": [
    "next = 0.5 * ((y[0]) + (2 /(y[0])))"
   ]
  },
  {
   "cell_type": "code",
   "execution_count": 12,
   "metadata": {
    "collapsed": true
   },
   "outputs": [],
   "source": [
    "for i in range(10):\n",
    "    next = 0.5 * ((y[i]) + (2 /(y[i])))\n",
    "    y.append(next)"
   ]
  },
  {
   "cell_type": "code",
   "execution_count": 13,
   "metadata": {},
   "outputs": [
    {
     "data": {
      "text/plain": [
       "[10,\n",
       " 5.1,\n",
       " 2.746078431372549,\n",
       " 1.7371948743795984,\n",
       " 1.4442380948662321,\n",
       " 1.4145256551487377,\n",
       " 1.4142135968022693,\n",
       " 1.4142135623730954,\n",
       " 1.414213562373095,\n",
       " 1.414213562373095,\n",
       " 1.414213562373095]"
      ]
     },
     "execution_count": 13,
     "metadata": {},
     "output_type": "execute_result"
    }
   ],
   "source": [
    "y"
   ]
  },
  {
   "cell_type": "code",
   "execution_count": 14,
   "metadata": {
    "collapsed": true
   },
   "outputs": [],
   "source": [
    "%matplotlib inline\n",
    "import matplotlib.pyplot as plt"
   ]
  },
  {
   "cell_type": "code",
   "execution_count": 15,
   "metadata": {},
   "outputs": [
    {
     "data": {
      "text/plain": [
       "<matplotlib.text.Text at 0x21a276d50f0>"
      ]
     },
     "execution_count": 15,
     "metadata": {},
     "output_type": "execute_result"
    },
    {
     "data": {
      "image/png": "[encoded data removed]",
      "text/plain": [
       "<matplotlib.figure.Figure at 0x21a27528198>"
      ]
     },
     "metadata": {},
     "output_type": "display_data"
    }
   ],
   "source": [
    "plt.plot (x, 'b') \n",
    "plt.plot (y, 'g') \n",
    "plt.xlabel (\"X Sequence\")\n",
    "plt.ylabel (\"Y Sequence\")\n",
    "plt.title (\"Problem #3 Sequences\")"
   ]
  },
  {
   "cell_type": "markdown",
   "metadata": {},
   "source": [
    "The difference between these two sequences is simple, though they end with the same number (2.0) our X0s were significantly different. Since \"y\" was 10 and \"x\" was 1.5 at the start, it took the \"y\" sequence an extra 2 iterations to reach the same repeated end point as the \"x\" sequence."
   ]
  },
  {
   "cell_type": "markdown",
   "metadata": {},
   "source": [
    "![Image of Handwritten Work](https://imgur.com/a/57B72)"
   ]
  },
  {
   "cell_type": "code",
   "execution_count": null,
   "metadata": {
    "collapsed": true
   },
   "outputs": [],
   "source": []
  }
 ],
 "metadata": {
  "kernelspec": {
   "display_name": "Python 3",
   "language": "python",
   "name": "python3"
  },
  "language_info": {
   "codemirror_mode": {
    "name": "ipython",
    "version": 3
   },
   "file_extension": ".py",
   "mimetype": "text/x-python",
   "name": "python",
   "nbconvert_exporter": "python",
   "pygments_lexer": "ipython3",
   "version": "3.6.1"
  }
 },
 "nbformat": 4,
 "nbformat_minor": 2
}
